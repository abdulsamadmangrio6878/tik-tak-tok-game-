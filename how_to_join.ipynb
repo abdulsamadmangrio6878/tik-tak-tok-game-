{
 "cells": [
  {
   "cell_type": "code",
   "execution_count": 2,
   "metadata": {},
   "outputs": [
    {
     "name": "stdout",
     "output_type": "stream",
     "text": [
      "2-3-2004\n"
     ]
    }
   ],
   "source": [
    "birth = {\"Samad\":\"2-3-2004\",\"GULAB KHAN\":\"4-5-1986\"}\n",
    "name = input(\"enter your name in the list\")\n",
    "for i in birth:\n",
    "    k = birth[name]\n",
    "    s = k.split(\" \")\n",
    "print(\"-\".join(s))"
   ]
  },
  {
   "cell_type": "code",
   "execution_count": 1,
   "metadata": {},
   "outputs": [
    {
     "name": "stdout",
     "output_type": "stream",
     "text": [
      "2010-3-23\n"
     ]
    }
   ],
   "source": [
    "birthdays = {'gulab khan':\"1986-10-16\",'faisal':\"2010-3-23\"}\n",
    "name = input(\"enter your name in the list\")\n",
    "for i in birthdays:\n",
    "    key = birthdays[name]\n",
    "    ss = key.split(\" \")\n",
    "print(\" \".join(ss))"
   ]
  }
 ],
 "metadata": {
  "kernelspec": {
   "display_name": "Python 3",
   "language": "python",
   "name": "python3"
  },
  "language_info": {
   "codemirror_mode": {
    "name": "ipython",
    "version": 3
   },
   "file_extension": ".py",
   "mimetype": "text/x-python",
   "name": "python",
   "nbconvert_exporter": "python",
   "pygments_lexer": "ipython3",
   "version": "3.11.1"
  },
  "orig_nbformat": 4
 },
 "nbformat": 4,
 "nbformat_minor": 2
}
