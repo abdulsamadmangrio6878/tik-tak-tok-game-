{
 "cells": [
  {
   "cell_type": "code",
   "execution_count": 1,
   "metadata": {},
   "outputs": [
    {
     "data": {
      "text/plain": [
       "1"
      ]
     },
     "execution_count": 1,
     "metadata": {},
     "output_type": "execute_result"
    }
   ],
   "source": [
    "def inserrtion(data):\n",
    "\n",
    "    n = len(data)\n",
    "    for i in range(1,n):\n",
    "        k = data[i]\n",
    "        j = i-1\n",
    "        while j >= 0 and k < data[j]:\n",
    "            data[j+1] = data[j]\n",
    "\n",
    "            j -= 1\n",
    "        data[j+1] = k\n",
    "    return data\n",
    "inserrtion([5,4,3,2,1])"
   ]
  },
  {
   "cell_type": "code",
   "execution_count": 1,
   "metadata": {},
   "outputs": [
    {
     "data": {
      "text/plain": [
       "[1, 2, 3, 4, 5]"
      ]
     },
     "execution_count": 1,
     "metadata": {},
     "output_type": "execute_result"
    }
   ],
   "source": [
    "def insertion(d):\n",
    "    n = len(d)\n",
    "    for i in range(1,n):\n",
    "        k = d[i]\n",
    "        j = i-1\n",
    "        while j >= 0 and k < d[j]:\n",
    "            d[j+1] = d[j]\n",
    "            j -= 1\n",
    "        d[j+1] = k\n",
    "    return d\n",
    "insertion([5,4,3,2,1])"
   ]
  }
 ],
 "metadata": {
  "kernelspec": {
   "display_name": "base",
   "language": "python",
   "name": "python3"
  },
  "language_info": {
   "codemirror_mode": {
    "name": "ipython",
    "version": 3
   },
   "file_extension": ".py",
   "mimetype": "text/x-python",
   "name": "python",
   "nbconvert_exporter": "python",
   "pygments_lexer": "ipython3",
   "version": "3.9.13"
  },
  "orig_nbformat": 4
 },
 "nbformat": 4,
 "nbformat_minor": 2
}
