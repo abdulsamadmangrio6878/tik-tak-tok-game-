{
 "cells": [
  {
   "cell_type": "code",
   "execution_count": 1,
   "metadata": {},
   "outputs": [
    {
     "data": {
      "text/plain": [
       "121978086.01625904"
      ]
     },
     "execution_count": 1,
     "metadata": {},
     "output_type": "execute_result"
    }
   ],
   "source": [
    "class Recentaglee:\n",
    "\n",
    "\n",
    "    def __init__(a,lenght,width):\n",
    "        a.__lenght = lenght\n",
    "        a.__width = width\n",
    "\n",
    "\n",
    "    def Getlenght(a):\n",
    "        return a.__lenght\n",
    "    \n",
    "\n",
    "    def SetWidth(a,L):\n",
    "        a.__lenght = L\n",
    "\n",
    "\n",
    "    def Getwidth(a):\n",
    "        return a.__width\n",
    "    \n",
    "    def setwidth(a,W):\n",
    "        a.__width = W\n",
    "\n",
    "    def Area(a):\n",
    "        return 3.142*(a.__lenght)**2*(a.__width)**2\n",
    "    \n",
    "sky = Recentaglee(13.342,467)\n",
    "\n",
    "sky.Area()"
   ]
  },
  {
   "cell_type": "code",
   "execution_count": 1,
   "metadata": {},
   "outputs": [
    {
     "name": "stdout",
     "output_type": "stream",
     "text": [
      "122032946.66667296\n"
     ]
    }
   ],
   "source": [
    "class Recentagle:\n",
    "\n",
    "\n",
    "    def __init__(a,Lenght,Width):\n",
    "        a.__lenght = Lenght\n",
    "        a.__width = Width\n",
    "\n",
    "    \n",
    "    def getLenght(a):\n",
    "        return a.__lenght\n",
    "    \n",
    "\n",
    "    def setLenght(a,L):\n",
    "        a.__lenght = L\n",
    "\n",
    "    \n",
    "    def getWidth(a):\n",
    "        return a.__width\n",
    "    \n",
    "\n",
    "    def SetWidth(a,w):\n",
    "        a.__width = w\n",
    "\n",
    "    def Area(a):\n",
    "        return 3.142*(a.__lenght)**2*(a.__width)**2\n",
    "    \n",
    "R1 = Recentagle(13.345,467)\n",
    "print(R1.Area())"
   ]
  }
 ],
 "metadata": {
  "kernelspec": {
   "display_name": "base",
   "language": "python",
   "name": "python3"
  },
  "language_info": {
   "codemirror_mode": {
    "name": "ipython",
    "version": 3
   },
   "file_extension": ".py",
   "mimetype": "text/x-python",
   "name": "python",
   "nbconvert_exporter": "python",
   "pygments_lexer": "ipython3",
   "version": "3.9.13"
  },
  "orig_nbformat": 4
 },
 "nbformat": 4,
 "nbformat_minor": 2
}
