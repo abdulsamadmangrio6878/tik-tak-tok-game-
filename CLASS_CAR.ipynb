{
 "cells": [
  {
   "cell_type": "code",
   "execution_count": 1,
   "metadata": {},
   "outputs": [
    {
     "name": "stdout",
     "output_type": "stream",
     "text": [
      "/Car Name/: luxury BMW, /Car Seats/: TWO SEATS, /Car Dashboard:/ LUXURY DASHBOARD, /Car Engine:/ TWO THOUSANDS CC, /Car battery:/ ONE TWENTY VOLTE\n"
     ]
    }
   ],
   "source": [
    "class Car:\n",
    "\n",
    "\n",
    "    def __init__(a,car_Name,seats,dashboard,engine,battery):\n",
    "\n",
    "        a.car_name = car_Name\n",
    "        a.car_seats = seats\n",
    "        a.car_Dashboard = dashboard\n",
    "        a.engine = engine \n",
    "        a.car_battery = battery\n",
    "\n",
    "    \n",
    "    def __str__(a):\n",
    "        return f\"/Car Name/: {a.car_name}, /Car Seats/: {a.car_seats}, /Car Dashboard:/ {a.car_Dashboard}, /Car Engine:/ {a.engine}, /Car battery:/ {a.car_battery}\"\n",
    "    \n",
    "c1 = Car(\"luxury BMW\",\"TWO SEATS\",\"LUXURY DASHBOARD\",\"TWO THOUSANDS CC\",\"ONE TWENTY VOLTE\")\n",
    "print(c1)"
   ]
  }
 ],
 "metadata": {
  "kernelspec": {
   "display_name": "base",
   "language": "python",
   "name": "python3"
  },
  "language_info": {
   "codemirror_mode": {
    "name": "ipython",
    "version": 3
   },
   "file_extension": ".py",
   "mimetype": "text/x-python",
   "name": "python",
   "nbconvert_exporter": "python",
   "pygments_lexer": "ipython3",
   "version": "3.9.13"
  },
  "orig_nbformat": 4
 },
 "nbformat": 4,
 "nbformat_minor": 2
}
