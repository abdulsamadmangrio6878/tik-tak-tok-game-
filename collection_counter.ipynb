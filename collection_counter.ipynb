{
 "cells": [
  {
   "cell_type": "code",
   "execution_count": 2,
   "metadata": {},
   "outputs": [
    {
     "name": "stdout",
     "output_type": "stream",
     "text": [
      "5.0\n",
      "[1, 2, 3, 4, 5, 6, 7, 8, 9]\n",
      "6\n"
     ]
    }
   ],
   "source": [
    "from collections import Counter\n",
    "\n",
    "list = [1,2,3,4,5,6,7,8,9]\n",
    "\n",
    "mean = sum(list)/len(list)\n",
    "\n",
    "print(mean)\n",
    "list.sort()\n",
    "print(list)\n",
    "\n",
    "# median\n",
    "\n",
    "if len(list) %2 == 0:\n",
    "    print(list[int(len(list)/2)])\n",
    "    print(list[int(len(list)/2)-1])\n",
    "else:\n",
    "    l = int(len(list)/2)\n",
    "    print(list[l+1])"
   ]
  }
 ],
 "metadata": {
  "kernelspec": {
   "display_name": "base",
   "language": "python",
   "name": "python3"
  },
  "language_info": {
   "codemirror_mode": {
    "name": "ipython",
    "version": 3
   },
   "file_extension": ".py",
   "mimetype": "text/x-python",
   "name": "python",
   "nbconvert_exporter": "python",
   "pygments_lexer": "ipython3",
   "version": "3.9.13"
  },
  "orig_nbformat": 4
 },
 "nbformat": 4,
 "nbformat_minor": 2
}
