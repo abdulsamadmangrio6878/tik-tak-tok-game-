{
 "cells": [
  {
   "cell_type": "code",
   "execution_count": 6,
   "metadata": {},
   "outputs": [
    {
     "data": {
      "text/plain": [
       "4"
      ]
     },
     "execution_count": 6,
     "metadata": {},
     "output_type": "execute_result"
    }
   ],
   "source": [
    "def linear_recursive(data,element,index):\n",
    "\n",
    "    if index == len(data):\n",
    "        return -1\n",
    "    if data[index] == element:\n",
    "        return index\n",
    "    else:\n",
    "        return linear_recursive(data,element,index+1)\n",
    "linear_recursive([1,2,3,4,5,6,7,8,9],5,4)"
   ]
  },
  {
   "cell_type": "code",
   "execution_count": 2,
   "metadata": {},
   "outputs": [
    {
     "data": {
      "text/plain": [
       "4"
      ]
     },
     "execution_count": 2,
     "metadata": {},
     "output_type": "execute_result"
    }
   ],
   "source": [
    "def linear_search_recursive(arr, x, index):\n",
    "    if index == len(arr):\n",
    "        return -1\n",
    "\n",
    "    if arr[index] == x:\n",
    "        return index\n",
    "    else:\n",
    "        return linear_search_recursive(arr, x, index + 1)\n",
    "linear_search_recursive([1,2,3,4,5,6,7,8,9],5,4)"
   ]
  }
 ],
 "metadata": {
  "kernelspec": {
   "display_name": "base",
   "language": "python",
   "name": "python3"
  },
  "language_info": {
   "codemirror_mode": {
    "name": "ipython",
    "version": 3
   },
   "file_extension": ".py",
   "mimetype": "text/x-python",
   "name": "python",
   "nbconvert_exporter": "python",
   "pygments_lexer": "ipython3",
   "version": "3.9.13"
  },
  "orig_nbformat": 4
 },
 "nbformat": 4,
 "nbformat_minor": 2
}
