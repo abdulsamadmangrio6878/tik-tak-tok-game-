{
 "cells": [
  {
   "cell_type": "code",
   "execution_count": null,
   "metadata": {},
   "outputs": [],
   "source": [
    "class Episode:\n",
    "\n",
    "    def __init__(a,episode,season,channel):\n",
    "        a.episode_no = episode\n",
    "        a.season_no = season\n",
    "        a.channel_name = channel\n",
    "\n",
    "    def str(a):\n",
    "        print(f\"channel name:{a}\")\n",
    "        "
   ]
  }
 ],
 "metadata": {
  "language_info": {
   "name": "python"
  },
  "orig_nbformat": 4
 },
 "nbformat": 4,
 "nbformat_minor": 2
}
