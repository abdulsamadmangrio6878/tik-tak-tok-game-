{
 "cells": [
  {
   "cell_type": "code",
   "execution_count": 3,
   "metadata": {},
   "outputs": [
    {
     "name": "stdout",
     "output_type": "stream",
     "text": [
      "[1, 2, 3, 4, 5, 6, 7, 8, 9]\n"
     ]
    }
   ],
   "source": [
    "list = [1,2,2,3,4,3,4,5,6,7,8,9]\n",
    "\n",
    "\n",
    "def remove(list):\n",
    "    A_list = []\n",
    "    for i in list:\n",
    "        if i not in A_list:\n",
    "            A_list.append(i)\n",
    "    return A_list\n",
    "print(remove(list))"
   ]
  },
  {
   "cell_type": "code",
   "execution_count": 4,
   "metadata": {},
   "outputs": [
    {
     "data": {
      "text/plain": [
       "[]"
      ]
     },
     "execution_count": 4,
     "metadata": {},
     "output_type": "execute_result"
    }
   ],
   "source": [
    "def remove(num):\n",
    "    a_list = []\n",
    "    for i in num:\n",
    "        if i not in a_list:\n",
    "            a_list.append(i)\n",
    "    return a_list\n",
    "remove([2,2,23,3,4,4,5,6,6,7,8,9,6,7])\n",
    "        "
   ]
  },
  {
   "cell_type": "code",
   "execution_count": 39,
   "metadata": {},
   "outputs": [
    {
     "name": "stdout",
     "output_type": "stream",
     "text": [
      "[2, 3, 4, 6, 7, 8]\n"
     ]
    }
   ],
   "source": [
    "l = [2,3,4,5,6,7,8]\n",
    "\n",
    "l.remove(5)\n",
    "print(l)"
   ]
  },
  {
   "cell_type": "code",
   "execution_count": 43,
   "metadata": {},
   "outputs": [
    {
     "data": {
      "text/plain": [
       "2"
      ]
     },
     "execution_count": 43,
     "metadata": {},
     "output_type": "execute_result"
    }
   ],
   "source": [
    "ll = [2,3,4,5,6,7,8,9]\n",
    "ll.pop()\n",
    "ll.pop()\n",
    "\n",
    "ll.pop()\n",
    "ll.pop()\n",
    "ll.pop()\n",
    "ll.pop()\n",
    "ll.pop()\n",
    "ll.pop()\n",
    "# ll.pop()\n"
   ]
  }
 ],
 "metadata": {
  "kernelspec": {
   "display_name": "base",
   "language": "python",
   "name": "python3"
  },
  "language_info": {
   "codemirror_mode": {
    "name": "ipython",
    "version": 3
   },
   "file_extension": ".py",
   "mimetype": "text/x-python",
   "name": "python",
   "nbconvert_exporter": "python",
   "pygments_lexer": "ipython3",
   "version": "3.11.1"
  },
  "orig_nbformat": 4
 },
 "nbformat": 4,
 "nbformat_minor": 2
}
