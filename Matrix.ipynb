{
 "cells": [
  {
   "cell_type": "code",
   "execution_count": null,
   "metadata": {},
   "outputs": [],
   "source": [
    "def matrix(initial_no,end_of_first):\n",
    "    i = initial_no\n",
    "    j = end_of_first+1\n",
    "\n",
    "    for column in range(i,j):\n",
    "        for row in range(i,j):\n",
    "            print(column,row,end= \"\")\n",
    "        print()\n",
    "matrix(1,4)"
   ]
  }
 ],
 "metadata": {
  "language_info": {
   "name": "python"
  },
  "orig_nbformat": 4
 },
 "nbformat": 4,
 "nbformat_minor": 2
}
