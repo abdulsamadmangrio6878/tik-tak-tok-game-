{
 "cells": [
  {
   "cell_type": "code",
   "execution_count": 1,
   "metadata": {},
   "outputs": [
    {
     "name": "stdout",
     "output_type": "stream",
     "text": [
      "there are different types of birds\n",
      "most of the birds can fly but some cannot\n",
      "there are different types of birds\n",
      "parrots can fly\n",
      "there are different types of birds\n",
      "Penguins do not fly\n"
     ]
    }
   ],
   "source": [
    "class Bird:\n",
    "\n",
    "\n",
    "    def intro(a):\n",
    "        print(\"there are different types of birds\")\n",
    "\n",
    "    \n",
    "    def Flight(a):\n",
    "        print(\"most of the birds can fly but some cannot\")\n",
    "\n",
    "    \n",
    "class Parrot(Bird):\n",
    "\n",
    "\n",
    "    def flight(a):\n",
    "        print(\"parrots can fly\")\n",
    "\n",
    "class penguin(Bird):\n",
    "\n",
    "\n",
    "    def flight(a):\n",
    "        print(\"Penguins do not fly\")\n",
    "\n",
    "obj_bird = Bird()\n",
    "obj_parrot = Parrot()\n",
    "obj_penguin = penguin()\n",
    "\n",
    "obj_bird.intro()\n",
    "obj_bird.Flight()\n",
    "\n",
    "obj_parrot.intro()\n",
    "obj_parrot.flight()\n",
    "\n",
    "obj_penguin.intro()\n",
    "obj_penguin.flight()\n",
    "\n"
   ]
  }
 ],
 "metadata": {
  "kernelspec": {
   "display_name": "base",
   "language": "python",
   "name": "python3"
  },
  "language_info": {
   "codemirror_mode": {
    "name": "ipython",
    "version": 3
   },
   "file_extension": ".py",
   "mimetype": "text/x-python",
   "name": "python",
   "nbconvert_exporter": "python",
   "pygments_lexer": "ipython3",
   "version": "3.9.13"
  },
  "orig_nbformat": 4
 },
 "nbformat": 4,
 "nbformat_minor": 2
}
