{
 "cells": [
  {
   "cell_type": "code",
   "execution_count": 3,
   "metadata": {},
   "outputs": [],
   "source": [
    "Birthdays = {\"samad\":\"1-11-2004\",\"faisal\":\"2-4-2002\"}\n",
    "name = input(\"enter your naem in the list\")\n",
    "\n",
    "if name in Birthdays:\n",
    "    key = Birthdays[name]\n",
    "    s = key.split(\" \")\n",
    "    print(s)\n",
    "    print(\"-\".join(s))"
   ]
  }
 ],
 "metadata": {
  "kernelspec": {
   "display_name": "base",
   "language": "python",
   "name": "python3"
  },
  "language_info": {
   "codemirror_mode": {
    "name": "ipython",
    "version": 3
   },
   "file_extension": ".py",
   "mimetype": "text/x-python",
   "name": "python",
   "nbconvert_exporter": "python",
   "pygments_lexer": "ipython3",
   "version": "3.9.13"
  },
  "orig_nbformat": 4
 },
 "nbformat": 4,
 "nbformat_minor": 2
}
