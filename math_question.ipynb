{
 "cells": [
  {
   "cell_type": "code",
   "execution_count": 1,
   "metadata": {},
   "outputs": [
    {
     "name": "stdout",
     "output_type": "stream",
     "text": [
      "2.0\n"
     ]
    }
   ],
   "source": [
    "import math\n",
    "a1 = int(input(\"enter your a1 no:\"))\n",
    "a2 = int(input(\"enter your a2 no:\"))\n",
    "b1 = int(input(\"enter your b1 no:\"))\n",
    "b2 = int(input(\"enter your b2 no:\"))\n",
    "print(math.sqrt(a2-a1)**2+(b2-b1)**2)"
   ]
  },
  {
   "cell_type": "code",
   "execution_count": 3,
   "metadata": {},
   "outputs": [
    {
     "name": "stdout",
     "output_type": "stream",
     "text": [
      "2.0\n"
     ]
    }
   ],
   "source": [
    "import math\n",
    "no1 = int(input(\"enter your no1\"))\n",
    "no2 = int(input(\"enter your no2\"))\n",
    "num3 = int(input(\"enter your no3\"))\n",
    "num4 = int(input(\"enter your no4\"))\n",
    "print(math.sqrt(no2-no1)**2+(num4-num3))"
   ]
  }
 ],
 "metadata": {
  "kernelspec": {
   "display_name": "base",
   "language": "python",
   "name": "python3"
  },
  "language_info": {
   "codemirror_mode": {
    "name": "ipython",
    "version": 3
   },
   "file_extension": ".py",
   "mimetype": "text/x-python",
   "name": "python",
   "nbconvert_exporter": "python",
   "pygments_lexer": "ipython3",
   "version": "3.9.13"
  },
  "orig_nbformat": 4
 },
 "nbformat": 4,
 "nbformat_minor": 2
}
