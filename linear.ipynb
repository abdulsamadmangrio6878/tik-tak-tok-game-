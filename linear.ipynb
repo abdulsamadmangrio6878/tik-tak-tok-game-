{
 "cells": [
  {
   "cell_type": "code",
   "execution_count": 1,
   "metadata": {},
   "outputs": [
    {
     "data": {
      "text/plain": [
       "3"
      ]
     },
     "execution_count": 1,
     "metadata": {},
     "output_type": "execute_result"
    }
   ],
   "source": [
    "def linear(d,e):\n",
    "    result = [i for i in range(len(d))if d[i]==e]\n",
    "    return result[0] if result else -1\n",
    "d = [1,2,3,4,5,6,7,8,9]\n",
    "e = int(input(\"enter your no\"))\n",
    "x = linear(d,e)\n",
    "x"
   ]
  },
  {
   "cell_type": "code",
   "execution_count": 1,
   "metadata": {},
   "outputs": [
    {
     "name": "stdout",
     "output_type": "stream",
     "text": [
      "data found at {1}\n"
     ]
    }
   ],
   "source": [
    "def linear(data,element):\n",
    "    result = [i for i in range(len(data)) if data[i]== element]\n",
    "    return result[0] if result else -1\n",
    "data = ['b','f','r','j','w']\n",
    "element = input(\"enter your no\")\n",
    "\n",
    "x = linear(data,element)\n",
    "\n",
    "if x >= -1:\n",
    "    print(\"data found at\",{x})\n",
    "else:\n",
    "    print(\"data not found\")"
   ]
  }
 ],
 "metadata": {
  "kernelspec": {
   "display_name": "base",
   "language": "python",
   "name": "python3"
  },
  "language_info": {
   "codemirror_mode": {
    "name": "ipython",
    "version": 3
   },
   "file_extension": ".py",
   "mimetype": "text/x-python",
   "name": "python",
   "nbconvert_exporter": "python",
   "pygments_lexer": "ipython3",
   "version": "3.9.13"
  },
  "orig_nbformat": 4
 },
 "nbformat": 4,
 "nbformat_minor": 2
}
