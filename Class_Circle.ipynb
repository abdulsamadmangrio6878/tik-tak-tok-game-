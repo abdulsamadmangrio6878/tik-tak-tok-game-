{
 "cells": [
  {
   "cell_type": "code",
   "execution_count": 2,
   "metadata": {},
   "outputs": [
    {
     "name": "stdout",
     "output_type": "stream",
     "text": [
      "559.55571655\n",
      "1119.1114331\n",
      "sky 2  65152.511999999995\n",
      "cirdflhd 130305.02399999999\n"
     ]
    }
   ],
   "source": [
    "class Circle:\n",
    "\n",
    "    def __init__(a,radius):\n",
    "        a.__radius = radius\n",
    "\n",
    "    def getRadius(a):\n",
    "        return a.__radius \n",
    "    \n",
    "    def setRadius(a,r):\n",
    "        a.__radius = r\n",
    "\n",
    "    def area(a):\n",
    "        return 3.142*a.__radius**2\n",
    "    \n",
    "    def perameter(a):\n",
    "        return 2*3.142*a.__radius**2\n",
    "    \n",
    "sky = Circle(13.345)\n",
    "sky2 = Circle(144)\n",
    "print(sky.area())\n",
    "print(sky.perameter())\n",
    "\n",
    "print(\"sky 2 \",sky2.area())\n",
    "print(\"cirdflhd\",sky2.perameter())"
   ]
  }
 ],
 "metadata": {
  "kernelspec": {
   "display_name": "base",
   "language": "python",
   "name": "python3"
  },
  "language_info": {
   "codemirror_mode": {
    "name": "ipython",
    "version": 3
   },
   "file_extension": ".py",
   "mimetype": "text/x-python",
   "name": "python",
   "nbconvert_exporter": "python",
   "pygments_lexer": "ipython3",
   "version": "3.9.13"
  },
  "orig_nbformat": 4
 },
 "nbformat": 4,
 "nbformat_minor": 2
}
